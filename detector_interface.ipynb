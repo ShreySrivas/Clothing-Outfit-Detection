{
 "cells": [
  {
   "cell_type": "markdown",
   "metadata": {},
   "source": [
    "# Providing an interface to the object detector/image classifier via Gradio Library"
   ]
  },
  {
   "cell_type": "code",
   "execution_count": 9,
   "metadata": {},
   "outputs": [],
   "source": [
    "import imutils\n",
    "import numpy as np\n",
    "import cv2\n",
    "import matplotlib.pyplot as plt\n",
    "import argparse\n",
    "import tensorflow as tf\n",
    "import imutils\n",
    "from imutils.object_detection import non_max_suppression\n",
    "import time\n",
    "from tensorflow import keras\n",
    "import tensorflow_hub as hub\n",
    "import keras_utils\n",
    "import gradio as gr"
   ]
  },
  {
   "cell_type": "code",
   "execution_count": 6,
   "metadata": {},
   "outputs": [],
   "source": [
    "import json\n",
    "file = open('classes.json')\n",
    "classes = json.load(file)\n",
    "\n",
    "classes = {int(k):v for k,v in classes.items()}\n",
    "file.close()"
   ]
  },
  {
   "cell_type": "code",
   "execution_count": 21,
   "metadata": {},
   "outputs": [],
   "source": [
    "args = {'image':\"shirt_1.png\", 'size': (200, 200), 'min_confidence':0.9999}\n",
    "WIDTH = 700 \n",
    "PYR_SCALE = 1.5\n",
    "WINDOW_STEP = 20*3 \n",
    "ROI_SIZE = args[\"size\"]\n",
    "INPUT_SIZE = (224, 224)\n",
    "IMG_SIZE = 224"
   ]
  },
  {
   "cell_type": "code",
   "execution_count": 8,
   "metadata": {},
   "outputs": [],
   "source": [
    "model =  tf.keras.models.load_model(\n",
    "       ('model_ResNet50.h5'),\n",
    "       custom_objects={'KerasLayer':hub.KerasLayer}\n",
    ")"
   ]
  },
  {
   "cell_type": "code",
   "execution_count": 15,
   "metadata": {},
   "outputs": [],
   "source": [
    "def image_pyramid(image, scale=1.5, minSize=(224, 224)):\n",
    "    yield image\n",
    "    while True:\n",
    "        w = int(image.shape[1] / scale)\n",
    "        image = imutils.resize(image, width=w) \n",
    "        if image.shape[0] < minSize[1] or image.shape[1] < minSize[0]:\n",
    "            break\n",
    "        yield image"
   ]
  },
  {
   "cell_type": "code",
   "execution_count": 16,
   "metadata": {},
   "outputs": [],
   "source": [
    "def sliding_window(image, step, win_step):\n",
    "    for y in range(0, image.shape[0]-win_step[1], step):\n",
    "        for x in range(0, image.shape[1] - win_step[0], step):\n",
    "            yield (x, y, image[y:y + win_step[1], x:x + win_step[0]])"
   ]
  },
  {
   "cell_type": "markdown",
   "metadata": {},
   "source": [
    "## Gradio Function for object detection"
   ]
  },
  {
   "cell_type": "code",
   "execution_count": 17,
   "metadata": {},
   "outputs": [
    {
     "name": "stdout",
     "output_type": "stream",
     "text": [
      "Running on local URL:  http://127.0.0.1:7865/\n",
      "\n",
      "To create a public link, set `share=True` in `launch()`.\n"
     ]
    },
    {
     "data": {
      "text/html": [
       "<div><iframe src=\"http://127.0.0.1:7865/\" width=\"900\" height=\"500\" allow=\"autoplay; camera; microphone;\" frameborder=\"0\" allowfullscreen></iframe></div>"
      ],
      "text/plain": [
       "<IPython.core.display.HTML object>"
      ]
     },
     "metadata": {},
     "output_type": "display_data"
    },
    {
     "data": {
      "text/plain": [
       "(<gradio.routes.App at 0x1f50227a0a0>, 'http://127.0.0.1:7865/', None)"
      ]
     },
     "execution_count": 17,
     "metadata": {},
     "output_type": "execute_result"
    }
   ],
   "source": [
    "\n",
    "def clothes_object_detector(image):\n",
    "    # image = cv2.imread(input_img)\n",
    "    # image = cv2.cvtColor(image, cv2.COLOR_BGR2RGB)\n",
    "    original_image = image\n",
    "    original_image = imutils.resize(original_image, width = WIDTH)\n",
    "    (H, W) = original_image.shape[:2]\n",
    "    pyramid = image_pyramid(original_image, scale=PYR_SCALE, minSize=ROI_SIZE)\n",
    "\n",
    "    rois = []\n",
    "    locs = []\n",
    "\n",
    "    start = time.time()\n",
    "    counter = 0\n",
    "    total_images = 0\n",
    "    for p, image in enumerate(pyramid):\n",
    "\n",
    "        scale = W / float(image.shape[1])\n",
    "\n",
    "        sw = 0\n",
    "        for (x, y, roi_original) in sliding_window(image, WINDOW_STEP, ROI_SIZE):\n",
    "            sw = sw + 1\n",
    "            x = int(x * scale)\n",
    "            y = int(y * scale)\n",
    "            w = int(ROI_SIZE[0] * scale)\n",
    "            h = int(ROI_SIZE[1] * scale)\n",
    "            roi = cv2.resize(roi_original, INPUT_SIZE)\n",
    "            roi = tf.keras.preprocessing.image.img_to_array(roi)\n",
    "            roi = tf.keras.applications.resnet.preprocess_input(roi)\n",
    "            rois.append(roi)\n",
    "            locs.append((x, y, x + w, y + h))\n",
    "            clone = original_image.copy()\n",
    "            cv2.rectangle(clone, (x, y), (x + w, y + h),(0, 255, 0), 5)\n",
    "            total_images = total_images +1\n",
    "\n",
    "\n",
    "    rois = np.array(rois, dtype=\"float32\")\n",
    "    my_preds = model.predict(rois)\n",
    "    preds = []\n",
    "    for i in range(my_preds.shape[0]):\n",
    "        preds.append((classes[np.argmax(my_preds[i], axis=-1)], max(my_preds[i])))\n",
    "            \n",
    "\n",
    "    labels = {}\n",
    "    for (i, p) in enumerate(preds):\n",
    "        (label, prob) = p\n",
    "        if prob >= args[\"min_confidence\"]:\n",
    "            box = locs[i]\n",
    "\n",
    "            L = labels.get(label, [])\n",
    "            L.append((box, prob))\n",
    "            labels[label] = L\n",
    "            allclone = original_image.copy()\n",
    "    for label in labels.keys():\n",
    "        clone = original_image.copy()\n",
    "        for (box, prob) in labels[label]:\n",
    "            (startX, startY, endX, endY) = box\n",
    "            cv2.rectangle(clone, (startX, startY), (endX, endY),(0, 255, 0), 2)\n",
    "\n",
    "        clone = original_image.copy()\n",
    "\n",
    "        boxes = np.array([p[0] for p in labels[label]])\n",
    "        proba = np.array([p[1] for p in labels[label]])\n",
    "        boxes = non_max_suppression(boxes, proba)\n",
    "\n",
    "        for (startX, startY, endX, endY) in boxes:\n",
    "            cv2.rectangle(allclone, (startX, startY), (endX, endY),(0, 255, 0), 2)\n",
    "            y = startY - 10 if startY - 10 > 10 else startY + 10\n",
    "            cv2.putText(allclone, label, (startX, y+30),cv2.FONT_HERSHEY_SIMPLEX, 1, (0, 255, 0), 2)\n",
    "            cv2.putText(allclone, \"{:.2f}\".format(prob), (startX, y),cv2.FONT_HERSHEY_SIMPLEX, 1, (0, 255, 0), 2)\n",
    "            \n",
    "    return allclone\n",
    "\n",
    "demo = gr.Interface(clothes_object_detector, gr.Image(), \"image\")\n",
    "demo.launch()"
   ]
  },
  {
   "cell_type": "markdown",
   "metadata": {},
   "source": [
    "## Gradio Function for Cloth Image Classification"
   ]
  },
  {
   "cell_type": "code",
   "execution_count": 22,
   "metadata": {},
   "outputs": [
    {
     "name": "stdout",
     "output_type": "stream",
     "text": [
      "Running on local URL:  http://127.0.0.1:7869/\n",
      "\n",
      "To create a public link, set `share=True` in `launch()`.\n"
     ]
    },
    {
     "data": {
      "text/html": [
       "<div><iframe src=\"http://127.0.0.1:7869/\" width=\"900\" height=\"500\" allow=\"autoplay; camera; microphone;\" frameborder=\"0\" allowfullscreen></iframe></div>"
      ],
      "text/plain": [
       "<IPython.core.display.HTML object>"
      ]
     },
     "metadata": {},
     "output_type": "display_data"
    },
    {
     "data": {
      "text/plain": [
       "(<gradio.routes.App at 0x1f5026cee80>, 'http://127.0.0.1:7869/', None)"
      ]
     },
     "execution_count": 22,
     "metadata": {},
     "output_type": "execute_result"
    },
    {
     "data": {
      "image/png": "[encoded data removed]",
      "text/plain": [
       "<Figure size 432x288 with 1 Axes>"
      ]
     },
     "metadata": {
      "needs_background": "light"
     },
     "output_type": "display_data"
    }
   ],
   "source": [
    "def clothes_image_classifier(image):\n",
    "    img_show = image\n",
    "    image = cv2.resize(image, (IMG_SIZE, IMG_SIZE))\n",
    "    image = cv2.cvtColor(image, cv2.COLOR_BGR2RGB)\n",
    "\n",
    "    image = np.reshape(image, [1, IMG_SIZE, IMG_SIZE, 3]) / 255.0\n",
    "\n",
    "    img_class = np.argmax(model.predict(image), axis=-1)\n",
    "    prediction = img_class[0]\n",
    "    plt.imshow(img_show/255.)\n",
    "    clothe_type, for_kids = classes[prediction].split(\" \")\n",
    "    if for_kids == 'False':\n",
    "        prediction = \"{} worn by adults\".format(clothe_type)\n",
    "    else:\n",
    "        prediction = \"{} worn by kids\".format(clothe_type)\n",
    "\n",
    "    return prediction\n",
    "demo2 = gr.Interface(clothes_image_classifier, gr.Image(), \"text\")\n",
    "demo2.launch()"
   ]
  }
 ],
 "metadata": {
  "kernelspec": {
   "display_name": "Python 3.9.7 ('mlenv')",
   "language": "python",
   "name": "python3"
  },
  "language_info": {
   "codemirror_mode": {
    "name": "ipython",
    "version": 3
   },
   "file_extension": ".py",
   "mimetype": "text/x-python",
   "name": "python",
   "nbconvert_exporter": "python",
   "pygments_lexer": "ipython3",
   "version": "3.9.7"
  },
  "orig_nbformat": 4,
  "vscode": {
   "interpreter": {
    "hash": "bff89afa2dd32e48fd5e42ca75439092dc09fe824bd07826447644c9497d680d"
   }
  }
 },
 "nbformat": 4,
 "nbformat_minor": 2
}
